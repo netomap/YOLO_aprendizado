{
 "cells": [
  {
   "cell_type": "code",
   "execution_count": 1,
   "metadata": {},
   "outputs": [],
   "source": [
    "import torch\n",
    "from torch import nn\n",
    "from utils import predict\n",
    "from PIL import Image, ImageDraw\n",
    "import numpy as np\n",
    "from model import YOLO\n",
    "from dataset import yolo_dataset\n",
    "import pandas as pd\n",
    "from torch.utils.data import DataLoader\n",
    "from torchvision import transforms\n",
    "from create_dataset import create_image"
   ]
  },
  {
   "cell_type": "code",
   "execution_count": 2,
   "metadata": {},
   "outputs": [
    {
     "name": "stdout",
     "output_type": "stream",
     "text": [
      "dict_keys(['state_dict', 'datetime', 'S', 'B', 'C', 'IMG_SIZE', 'epochs', 'descricao', 'architecture_config'])\n"
     ]
    }
   ],
   "source": [
    "checkpoint = torch.load('./models/checkpoint_9_epochs.pth', map_location=torch.device('cpu'))\n",
    "print (checkpoint.keys())\n",
    "S = checkpoint['S']\n",
    "B = checkpoint['B']\n",
    "C = checkpoint['C']\n",
    "IMG_SIZE = checkpoint['IMG_SIZE']\n",
    "architecture_config = checkpoint['architecture_config']"
   ]
  },
  {
   "cell_type": "code",
   "execution_count": 3,
   "metadata": {},
   "outputs": [
    {
     "data": {
      "text/plain": [
       "<All keys matched successfully>"
      ]
     },
     "execution_count": 3,
     "metadata": {},
     "output_type": "execute_result"
    }
   ],
   "source": [
    "transformer = transforms.Compose([\n",
    "    transforms.Resize((IMG_SIZE, IMG_SIZE)),\n",
    "    transforms.ToTensor(),\n",
    "    transforms.Normalize(mean=(.5, .5, .5), std=(.5, .5, .5))\n",
    "])\n",
    "\n",
    "model = YOLO(S, B, C, IMG_SIZE, architecture_config)\n",
    "model.load_state_dict(checkpoint['state_dict'])"
   ]
  },
  {
   "cell_type": "code",
   "execution_count": 23,
   "metadata": {},
   "outputs": [
    {
     "data": {
      "image/png": "[encoded data removed]",
      "text/plain": [
       "<PIL.Image.Image image mode=RGB size=235x287 at 0x1D422A49E80>"
      ]
     },
     "execution_count": 23,
     "metadata": {},
     "output_type": "execute_result"
    }
   ],
   "source": [
    "img_pil, annotations = create_image(n_objects=3)\n",
    "img_pil, predictions = predict(model, img_pil, transformer, prob_threshold=0.1, print_grid=True)\n",
    "# print (predictions)\n",
    "img_pil"
   ]
  }
 ],
 "metadata": {
  "interpreter": {
   "hash": "aa39838d5afd7d94b7544cb5e5351cace91d1e0eb74b6451fdb6f11f3a068bed"
  },
  "kernelspec": {
   "display_name": "Python 3.9.5 64-bit",
   "language": "python",
   "name": "python3"
  },
  "language_info": {
   "codemirror_mode": {
    "name": "ipython",
    "version": 3
   },
   "file_extension": ".py",
   "mimetype": "text/x-python",
   "name": "python",
   "nbconvert_exporter": "python",
   "pygments_lexer": "ipython3",
   "version": "3.9.5"
  },
  "orig_nbformat": 4
 },
 "nbformat": 4,
 "nbformat_minor": 2
}
