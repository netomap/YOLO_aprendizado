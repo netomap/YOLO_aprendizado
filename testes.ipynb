{
 "cells": [
  {
   "cell_type": "code",
   "execution_count": 76,
   "metadata": {},
   "outputs": [],
   "source": [
    "import torch\n",
    "from torch import nn\n",
    "from torchvision.ops.boxes import box_iou, _box_cxcywh_to_xyxy\n",
    "from PIL import Image, ImageDraw\n",
    "import numpy as np"
   ]
  },
  {
   "cell_type": "code",
   "execution_count": 69,
   "metadata": {},
   "outputs": [],
   "source": [
    "a = torch.tensor([\n",
    "    [\n",
    "        [1, 10, 10, 10, 10],\n",
    "        [1, 10, 80, 20, 20],\n",
    "    ],\n",
    "    [\n",
    "        [1, 90, 20, 20, 20],\n",
    "        [1, 100, 100, 30, 30],\n",
    "    ]\n",
    "])\n",
    "b = torch.tensor([\n",
    "    [\n",
    "        [1, 10, 10, 9, 9],\n",
    "        [1, 13, 78, 18, 25],\n",
    "    ],\n",
    "    [\n",
    "        [1, 87, 23, 22, 25],\n",
    "        [1, 100, 100, 30, 29],\n",
    "    ]\n",
    "])"
   ]
  },
  {
   "cell_type": "code",
   "execution_count": 113,
   "metadata": {},
   "outputs": [
    {
     "name": "stdout",
     "output_type": "stream",
     "text": [
      "tensor([[0.0022, 0.0000],\n",
      "        [0.0267, 0.0989]])\n"
     ]
    },
    {
     "data": {
      "image/png": "[encoded data removed]",
      "text/plain": [
       "<PIL.Image.Image image mode=RGB size=564x564 at 0x2AA8CEF98E0>"
      ]
     },
     "execution_count": 113,
     "metadata": {},
     "output_type": "execute_result"
    }
   ],
   "source": [
    "def calculate_ious(predictions, targets):\n",
    "    r\"\"\"\n",
    "    Função que calcula os ious entre as predições e as targets (anotações).  \n",
    "    Os tensores vêm no formato [S, S, 5] onde 5-> [p, xc, yc, w, h]\n",
    "\n",
    "    Args:  \n",
    "        Predictions -> Tensor que vem no formato [S, S, 5]\n",
    "        Target -> Tensor que vem no formato [S, S, 5]\n",
    "    \n",
    "    Returns: \n",
    "        ious -> Tensor no formato [S, S, 1] onde 1 representa o IOU entre as bboxes entre cada casas.\n",
    "    \"\"\"\n",
    "    assert predictions.shape[:2] == targets.shape[:2]\n",
    "    assert predictions.shape[-1] == targets.shape[-1] == 5\n",
    "\n",
    "    bbox1 = predictions[..., 1:] # pega somente [xc, yc, w, h] pois vem no formato [p, xc, yc, w, h]\n",
    "    bbox2 = targets[..., 1:] # o mesmo\n",
    "\n",
    "    # agora convertendo para [x1, y1, x2, y2]\n",
    "    bbox1 = _box_cxcywh_to_xyxy(bbox1)\n",
    "    bbox2 = _box_cxcywh_to_xyxy(bbox2)\n",
    "\n",
    "    # calculando agora os ious\n",
    "    ious = box_iou(bbox1.reshape(-1, 4), bbox2.reshape(-1, 4)) # essa função nativa do pytorch só aceita tensores com shape= [N, 4]\n",
    "    ious = ious.diagonal() # assim pegamos sua diagonal pois queremos somente os elementos comparados na mesma casa\n",
    "    \n",
    "    ious = ious.reshape(predictions.shape[:2]) # retorna com o mesmo shape de linhas e colunas S, S e mais uma dimensão com o valor do iou\n",
    "\n",
    "    return ious\n",
    "\n",
    "def inspecao_visual_ious(bbox1, bbox2):\n",
    "    \n",
    "    bbox1 = bbox1[..., 1:] # pega somente [xc, yc, w, h] pois vem no formato [p, xc, yc, w, h]\n",
    "    bbox2 = bbox2[..., 1:] # o mesmo\n",
    "\n",
    "    # agora convertendo para [x1, y1, x2, y2]\n",
    "    bbox1 = _box_cxcywh_to_xyxy(bbox1)\n",
    "    bbox2 = _box_cxcywh_to_xyxy(bbox2)\n",
    "\n",
    "    maximo = int(torch.tensor([bbox1.max(), bbox2.max()]).max())\n",
    "    img_pil = Image.new('RGB', size=(maximo+20, maximo+20), color='white')\n",
    "    draw = ImageDraw.Draw(img_pil)\n",
    "\n",
    "    for k, (box1, box2) in enumerate(zip(bbox1.reshape(-1, 4), bbox2.reshape(-1, 4))):\n",
    "        box1 = box1.detach().numpy()\n",
    "        box2 = box2.detach().numpy()\n",
    "\n",
    "        draw.rectangle(box1, fill=None, outline='red')\n",
    "        draw.text([box1[0],box1[1]-13], str(k), fill='red')\n",
    "\n",
    "        draw.rectangle(box2, fill=None, outline='green')\n",
    "        draw.text([box2[0],box2[1]-13], str(k), fill='green')\n",
    "    \n",
    "    return img_pil\n",
    "\n",
    "a = 10+torch.rand((2, 2, 5))*400\n",
    "b = 10+torch.rand((2, 2, 5))*400\n",
    "print (calculate_ious(a, b))\n",
    "inspecao_visual_ious(a, b)"
   ]
  }
 ],
 "metadata": {
  "interpreter": {
   "hash": "aa39838d5afd7d94b7544cb5e5351cace91d1e0eb74b6451fdb6f11f3a068bed"
  },
  "kernelspec": {
   "display_name": "Python 3.9.5 64-bit",
   "language": "python",
   "name": "python3"
  },
  "language_info": {
   "codemirror_mode": {
    "name": "ipython",
    "version": 3
   },
   "file_extension": ".py",
   "mimetype": "text/x-python",
   "name": "python",
   "nbconvert_exporter": "python",
   "pygments_lexer": "ipython3",
   "version": "3.9.5"
  },
  "orig_nbformat": 4
 },
 "nbformat": 4,
 "nbformat_minor": 2
}
